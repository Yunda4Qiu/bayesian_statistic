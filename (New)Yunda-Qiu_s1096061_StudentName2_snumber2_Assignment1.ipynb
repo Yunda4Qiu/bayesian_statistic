{
 "cells": [
  {
   "cell_type": "markdown",
   "metadata": {
    "id": "B9CgBTj1gS8B"
   },
   "source": [
    "# Weekly assignment 1\n",
    "\n",
    "## Read before you start\n",
    "\n",
    "* Provide clear and complete answers in code blocks or markdown. You may add as many as you need.\n",
    "* Always motivate your answers. This can be done in markdown cells, or in comments in code.\n",
    "* Submit your results via Brightspace. Use the following filename convention: ``StudentName1_snumber1_StudentName2_snumber2_Assignment1.ipynb``.\n",
    "* Make sure you submit a fully executed version of the notebook file. The teaching assistants will not run/debug your code during grading.\n",
    "* Questions? Ask them during the workgroups, or see Brightspace for instructions on how to proceed."
   ]
  },
  {
   "cell_type": "markdown",
   "metadata": {
    "id": "qo2CmTDigS8F",
    "pycharm": {
     "name": "#%% md\n"
    }
   },
   "source": [
    "## Probability theory refresher\n",
    "\n",
    "For Bayesian statistics, we need both Probability Theory and (some) Calculus. In this first exercise, we will refresh some key ideas from these disciplines.\n",
    "\n",
    "Consider the following _joint probability distribution_:\n",
    "\n",
    "<table>\n",
    "<thead>\n",
    "  <tr>\n",
    "    <th>&nbsp;</th>\n",
    "    <th>&nbsp;</th>\n",
    "    <th colspan=\"6\">B</th>\n",
    "  </tr>\n",
    "</thead>\n",
    "<tbody>\n",
    "  <tr>\n",
    "    <td>&nbsp;</td>\n",
    "    <td>&nbsp;</td>\n",
    "    <td>1</td>\n",
    "    <td>2</td>\n",
    "    <td>3</td>\n",
    "    <td>4</td>\n",
    "    <td>5</td>\n",
    "    <td>6</td>\n",
    "  </tr>\n",
    "  <tr>\n",
    "    <th rowspan=\"2\">A</th>\n",
    "    <td>H<br></td>\n",
    "    <td>1/9</td>\n",
    "    <td>5/36</td>\n",
    "    <td>1/12</td>\n",
    "    <td>1/9</td>\n",
    "    <td>5/36</td>\n",
    "    <td>1/9</td>\n",
    "  </tr>\n",
    "  <tr>\n",
    "    <td>T</td>\n",
    "    <td>1/36</td>\n",
    "    <td>1/36</td>\n",
    "    <td>1/12</td>\n",
    "    <td>1/12</td>\n",
    "    <td>1/18</td>\n",
    "    <td>1/36</td>\n",
    "  </tr>\n",
    "</tbody>\n",
    "</table>\n",
    "\n",
    "Here, random variable $A$ represents an (unfair?) coin, with possible outcomes $H$ (heads) and $T$ (tails), and $B$ a (loaded?) six-sided die, with possible outcomes $1, \\ldots, 6$.\n",
    "\n",
    "1. Compute the _marginal probability distributions_ (note: distributions, not single probabilities!) $P(A)$ and $P(B)$.\n",
    "2. Compute the _conditional distributions_ $P(A\\mid B)$ and $P(B\\mid A)$.\n",
    "3. Are $A$ and $B$ independent?\n",
    "\n",
    "\n",
    "Now we work the other way around. We consider again a coin ($C$) and a six-sided die ($D$). This is the marginal probability distribution $P(D)$:\n",
    "\n",
    "<table>\n",
    "<thead>\n",
    "  <tr>\n",
    "    <th colspan=\"6\">D</th>\n",
    "  </tr>\n",
    "</thead>\n",
    "<tbody>\n",
    "  <tr>\n",
    "    <td>1</td>\n",
    "    <td>2</td>\n",
    "    <td>3</td>\n",
    "    <td>4</td>\n",
    "    <td>5</td>\n",
    "    <td>6</td>\n",
    "  </tr>\n",
    "  <tr>\n",
    "    <td>7/80</td>\n",
    "    <td>1/8</td>\n",
    "    <td>13/40</td>\n",
    "    <td>11/80</td>\n",
    "    <td>1/10</td>\n",
    "    <td>9/40</td>\n",
    "  </tr>\n",
    "</tbody>\n",
    "</table>\n",
    "\n",
    "Furthermore, let these be the conditional probabilities of $C=H$ given $D$:\n",
    "\n",
    "<table>\n",
    "<thead>\n",
    "  <tr>\n",
    "    <th colspan=\"6\">P(C=H | D)</th>\n",
    "  </tr>\n",
    "</thead>\n",
    "<tbody>\n",
    "  <tr>\n",
    "    <td>1</td>\n",
    "    <td>2</td>\n",
    "    <td>3</td>\n",
    "    <td>4</td>\n",
    "    <td>5</td>\n",
    "    <td>6</td>\n",
    "  </tr>\n",
    "  <tr>\n",
    "    <td>8/10<br></td>\n",
    "    <td>4/13<br></td>\n",
    "    <td>4/11</td>\n",
    "    <td>5/10<br></td>\n",
    "    <td>4/9</td>\n",
    "    <td>21/50</td>\n",
    "  </tr>\n",
    "</tbody>\n",
    "</table>\n",
    "\n",
    "4. Why does $P(C=H \\mid D)$ **not** sum to 1 when you sum over the different values $D$ can take? (Note: this is really important for using Bayes' theorem throughout this course, so make sure you understand what is going on here!)\n",
    "5. Compute the marginal probability $P(C=H)$.\n",
    "6. Use Bayes' theorem to compute $P(D\\mid C=H)$.\n",
    "7. Are $C$ and $D$ independent?\n",
    "8. Why **does** $P(D\\mid C=H)$ sum to 1? (If it doesn't, you made a mistake. Fix it quickly before anyone sees!)"
   ]
  },
  {
   "cell_type": "markdown",
   "metadata": {},
   "source": [
    "# Answers\n",
    "1.1 The _marginal probability distributions_ of $P(A)$:\n",
    "<table border=\"1\">\n",
    "<tr>\n",
    "  <th>Distribution</th>\n",
    "  <th>H</th>\n",
    "  <th>T</th>\n",
    "</tr>\n",
    "<tr>\n",
    "  <th>P(A)</th>\n",
    "  <td>1/9+5/36+1/12+1/9+5/36+1/9=25/36</td>\n",
    "  <td>1/36+1/36+1/12+1/12+1/18+1/36=11/36</td>\n",
    "</tr>\n",
    "</table>\n",
    "\n",
    "1.2 The _marginal probability distributions_ of $P(B)$:\n",
    "<table border=\"1\">\n",
    "<tr>\n",
    "  <th>Distribution</th>\n",
    "  <th>1</th>\n",
    "  <th>2</th>\n",
    "  <th>3</th>\n",
    "  <th>4</th>\n",
    "  <th>5</th>\n",
    "  <th>6</th>\n",
    "</tr>\n",
    "<tr>\n",
    "  <th>P(B)</th>\n",
    "  <td>1/9+1/36=5/36</td>\n",
    "  <td>5/36+1/36=1/6</td>\n",
    "  <td>1/12+1/12=1/6</td>\n",
    "  <td>1/9+1/12=7/36</td>\n",
    "  <td>5/36+1/18=7/36</td>\n",
    "  <td>1/9+1/36=5/36</td>\n",
    "</tr>\n",
    "</table>\t\n",
    "\n",
    "2.1 The conditional distributions $P(A|B)$:\n",
    "\\begin{align}\n",
    "P(A \\mid B) = \\frac{P(A,B)}{P(B)}\n",
    "\\end{align}\n",
    "\n",
    "<table>\n",
    "<thead>\n",
    "  <tr>\n",
    "    <th>&nbsp;</th>\n",
    "    <th>&nbsp;</th>\n",
    "    <th colspan=\"6\">B</th>\n",
    "  </tr>\n",
    "</thead>\n",
    "<tbody>\n",
    "  <tr>\n",
    "    <th colspan=\"2\">P(A|B)</th>\n",
    "    <td>1</td>\n",
    "    <td>2</td>\n",
    "    <td>3</td>\n",
    "    <td>4</td>\n",
    "    <td>5</td>\n",
    "    <td>6</td>\n",
    "  </tr>\n",
    "  <tr>\n",
    "    <th rowspan=\"2\">A</th>\n",
    "    <td>H<br></td>\n",
    "    <td>4/5</td>\n",
    "    <td>5/6</td>\n",
    "    <td>1/2</td>\n",
    "    <td>4/7</td>\n",
    "    <td>5/7</td>\n",
    "    <td>4/5</td>\n",
    "  </tr>\n",
    "  <tr>\n",
    "    <td>T</td>\n",
    "    <td>1/5</td>\n",
    "    <td>1/6</td>\n",
    "    <td>1/2</td>\n",
    "    <td>3/7</td>\n",
    "    <td>2/7</td>\n",
    "    <td>1/5</td>\n",
    "  </tr>\n",
    "</tbody>\n",
    "</table>\n",
    "\n",
    "2.2 The conditional distributions $P(B|A)$:\n",
    "\\begin{align}\n",
    "P(B \\mid A) = \\frac{P(A,B)}{P(A)}\n",
    "\\end{align}\n",
    "\n",
    "<table>\n",
    "<thead>\n",
    "  <tr>\n",
    "    <th>&nbsp;</th>\n",
    "    <th>&nbsp;</th>\n",
    "    <th colspan=\"6\">B</th>\n",
    "  </tr>\n",
    "</thead>\n",
    "<tbody>\n",
    "  <tr>\n",
    "    <th colspan=\"2\">P(B|A)</th>\n",
    "    <td>1</td>\n",
    "    <td>2</td>\n",
    "    <td>3</td>\n",
    "    <td>4</td>\n",
    "    <td>5</td>\n",
    "    <td>6</td>\n",
    "  </tr>\n",
    "  <tr>\n",
    "    <th rowspan=\"2\">A</th>\n",
    "    <td>H<br></td>\n",
    "    <td>4/25</td>\n",
    "    <td>1/5</td>\n",
    "    <td>3/25</td>\n",
    "    <td>4/25</td>\n",
    "    <td>1/5</td>\n",
    "    <td>4/25</td>\n",
    "  </tr>\n",
    "  <tr>\n",
    "    <td>T</td>\n",
    "    <td>1/11</td>\n",
    "    <td>1/11</td>\n",
    "    <td>3/11</td>\n",
    "    <td>3/11</td>\n",
    "    <td>2/11</td>\n",
    "    <td>1/11</td>\n",
    "  </tr>\n",
    "</tbody>\n",
    "</table>\n",
    "\n",
    "3. They are not independent.\n",
    "$$P(A=H, B=1)=1/9\\neq P(A=H)P(H=1)=25/36*5/36=125/1296$$\n",
    "\n",
    "\n",
    "4. Because they are not in the same sample space.\n",
    "But it should be summed to be 1 like this: \n",
    "$$P(C=H|D)+P(C=T|D)=1$$\n",
    "\n",
    "\n",
    "5. The marginal probability $P(C=H)$ is:\n",
    "$$P(C=H)=\\Sigma{P(D)P(C=H|D)}=\\frac{7}{80}\\times \\frac{8}{10}+\n",
    "\\frac{1}{8}\\times \\frac{4}{13}+\n",
    "\\frac{13}{40}\\times \\frac{4}{11}+\n",
    "\\frac{11}{80}\\times \\frac{5}{10}+\n",
    "\\frac{1}{10}\\times \\frac{4}{9}+\n",
    "\\frac{9}{40}\\times \\frac{21}{50}=$$\n",
    "\n",
    "From bayesian rule, we know that:\n",
    "$$P(C=H|D)=\\frac{P(D|C=H)\\, P(C=H)}{P(D)}$$\n",
    "so:\n",
    "$$P(C=H)=\\frac{P(C=H|D)\\, P(D)}{P(D|C=H)}$$"
   ]
  },
  {
   "cell_type": "markdown",
   "metadata": {},
   "source": [
    "\\begin{align}\n",
    "P(A \\mid B) = \\frac{P(B \\mid A)\\, P(A)}{P(B)}\n",
    "\\end{align}"
   ]
  },
  {
   "cell_type": "code",
   "execution_count": 5,
   "metadata": {},
   "outputs": [
    {
     "name": "stdout",
     "output_type": "stream",
     "text": [
      "H:  25\n",
      "T:  11\n"
     ]
    }
   ],
   "source": [
    "h = 4+5+3+4+5+4\n",
    "t = 1+1+3+3+2+1\n",
    "print(\"H: \", h)\n",
    "print(\"T: \",t)"
   ]
  },
  {
   "cell_type": "markdown",
   "metadata": {
    "id": "m6wClYQbgS8H",
    "pycharm": {
     "name": "#%% md\n"
    }
   },
   "source": [
    "# Calculus refresher\n",
    "\n",
    "In practice, the situations we are interested in often concern many variables, which means their joint probability tables become too high-dimensional to write down. At the same time, we often encounter continuous variables rather than discrete ones. That means they can take an infinite number of different values, which again we cannot write down in a probability table. Instead, we have to use some calculus to work with such distributions. We will do so many times throughout this course, but for now we will simply look at finding the maximum of a probability density function. This corresponds to the most likely value for our variable!\n",
    "\n",
    "## The value that maximizes the probability density function\n",
    "\n",
    "An example of a probability density function is the following:\n",
    "\n",
    "$$ p(\\theta \\mid a, b) = \\frac{\\theta^{a-1} (1-\\theta)^{b-1}}{B(a,b)}\\qquad 0 \\leq \\theta \\leq 1\\enspace. $$\n",
    "\n",
    "This is a probability distribution over the variable $\\theta$. The distribution has two parameters, $a$ and $b$. The function $B(a,b)$ you may ignore for now; it simply ensures that the distribution integrates to 1, as it should (we will discuss this distribution at length in lecture 2). Here are some examples of what this distribution may look like, depending on how we select $a$ and $b$:"
   ]
  },
  {
   "cell_type": "code",
   "execution_count": null,
   "metadata": {
    "id": "t2CDmmvigS8J",
    "outputId": "0d10d474-7f7d-4da1-8b4f-7ee39a028448",
    "pycharm": {
     "name": "#%%\n"
    }
   },
   "outputs": [
    {
     "data": {
      "image/png": "[encoded data removed]",
      "text/plain": [
       "<Figure size 432x288 with 1 Axes>"
      ]
     },
     "metadata": {
      "needs_background": "light"
     },
     "output_type": "display_data"
    }
   ],
   "source": [
    "import matplotlib.pyplot as plt\n",
    "plt.rc('font', size=14)         # default fontsize\n",
    "plt.rc('axes', titlesize=16)    # fontsize of the axes title\n",
    "plt.rc('axes', labelsize=16)    # fontsize of the x and y labels\n",
    "plt.rc('xtick', labelsize=14)   # fontsize of the tick labels\n",
    "plt.rc('ytick', labelsize=14)   # fontsize of the tick labels\n",
    "plt.rc('legend', fontsize=16)   # legend fontsize\n",
    "plt.rc('figure', titlesize=16)  # fontsize of the figure title\n",
    "plt.rc('figure', titlesize=16)  # fontsize of the figure title\n",
    "\n",
    "\n",
    "import numpy as np\n",
    "from scipy.special import beta\n",
    "\n",
    "def probability_density_function(theta, a, b):\n",
    "    return theta**(a-1) * (1-theta)**(b-1) / beta(a,b)\n",
    "\n",
    "theta = np.linspace(0, 1, num=100)\n",
    "\n",
    "a_ = [3, 7, 2]\n",
    "b_ = [2, 9, 5]\n",
    "\n",
    "plt.figure()\n",
    "for a, b in zip(a_, b_):\n",
    "    plt.plot(theta, probability_density_function(theta, a, b), lw=2, label=f'$a={a}, b={b}$')\n",
    "plt.xlim([0, 1])\n",
    "plt.xlabel(r'$\\theta$')\n",
    "plt.ylabel(r'$p(\\theta \\mid a, b)$')\n",
    "plt.ylim(bottom=0)\n",
    "plt.legend()\n",
    "plt.show()"
   ]
  },
  {
   "cell_type": "markdown",
   "metadata": {
    "id": "0pO72WTfgS8K",
    "pycharm": {
     "name": "#%% md\n"
    }
   },
   "source": [
    "1. Compute the value for $\\theta$ that gives the maximum probability density, i.e.\n",
    "\n",
    "$ \\hat{\\theta}= \\underset{\\theta}{\\operatorname{argmax}} p(\\theta\\mid a, b) \\enspace.$\n",
    "\n",
    "Recall, to find the maximum of such a function, first take its logarithm, discard all terms that do not depend on $\\theta$, find the derivative and set it to zero.\n",
    "\n",
    "2. Copy-paste the above plottig code and add vertical lines (using ``plt.axvline()`` at the correct locations of the maxima of the three functions that are shown. (This acts as a sanity check! If your maxima are not at the tops of the curves, something is amiss!)"
   ]
  },
  {
   "cell_type": "markdown",
   "metadata": {},
   "source": [
    "# Answers"
   ]
  },
  {
   "cell_type": "markdown",
   "metadata": {
    "id": "H0WJOsPVgS8K",
    "pycharm": {
     "name": "#%% md\n"
    }
   },
   "source": [
    "## Another example\n",
    "\n",
    "Consider a toy spinner with a $[0,1]$ scale around its circumference; whatever number points up is the random number $x$ generated by this 'function'. Suppose that the spinner is modified in some way to give it a bias towards a certain outcome. The corresponding probability density function is $p(x)=6x(1-x)$, for $0 \\leq x \\leq 1$.\n",
    "\n",
    "1. Use code in the previous question as a basis to make a plot of this probability density function.\n",
    "\n",
    "2. If this is indeed a valid probability density function, it must be non-negative and it must integrate to 1. Show that this is indeed the case, by computing the integral $\\int_0^1 p(x)\\, \\text{d}x$, and explaining that $p(x)\\geq 0$ for $0\\leq x \\leq 1$.\n"
   ]
  },
  {
   "cell_type": "markdown",
   "metadata": {},
   "source": [
    "# Answers"
   ]
  }
 ],
 "metadata": {
  "colab": {
   "provenance": []
  },
  "kernelspec": {
   "display_name": "Python 3 (ipykernel)",
   "language": "python",
   "name": "python3"
  },
  "language_info": {
   "codemirror_mode": {
    "name": "ipython",
    "version": 3
   },
   "file_extension": ".py",
   "mimetype": "text/x-python",
   "name": "python",
   "nbconvert_exporter": "python",
   "pygments_lexer": "ipython3",
   "version": "3.11.0"
  }
 },
 "nbformat": 4,
 "nbformat_minor": 1
}
