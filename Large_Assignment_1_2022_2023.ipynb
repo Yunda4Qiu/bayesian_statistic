{
  "nbformat": 4,
  "nbformat_minor": 0,
  "metadata": {
    "colab": {
      "provenance": []
    },
    "kernelspec": {
      "name": "python3",
      "display_name": "Python 3"
    },
    "language_info": {
      "name": "python"
    }
  },
  "cells": [
    {
      "cell_type": "markdown",
      "source": [
        "# Large assignment 1\n",
        "\n",
        "## Read before you start\n",
        "\n",
        "* Provide clear and complete answers in code blocks or markdown. You may add as many as you need.\n",
        "* Always motivate your answers. This can be done in markdown cells, or in comments in code.\n",
        "* Submit your results via Brightspace. Use the following filename convention: ``StudentName1_snumber1_StudentName2_snumber2_LargeAssignment1.ipynb``.\n",
        "* Make sure you submit a fully executed version of the notebook file. The teaching assistants will not run/debug your code during grading.\n",
        "* Questions? Ask them during the workgroups, or see Brightspace for instructions on how to proceed."
      ],
      "metadata": {
        "id": "pbOLdxWCNpZb"
      }
    },
    {
      "cell_type": "code",
      "execution_count": null,
      "metadata": {
        "id": "tUGIfKtQNlEa"
      },
      "outputs": [],
      "source": [
        "!apt install jags\n",
        "!pip install pyjags"
      ]
    },
    {
      "cell_type": "code",
      "source": [
        "import matplotlib.pyplot as plt\n",
        "import numpy as np\n",
        "import pyjags as pj\n",
        "\n",
        "print('Using PyJAGS v{:s}'.format(pj.__version__))\n",
        "\n",
        "plt.rc('axes', titlesize=18)        # fontsize of the axes title\n",
        "plt.rc('axes', labelsize=18)        # fontsize of the x and y labels\n",
        "plt.rc('xtick', labelsize=14)       # fontsize of the tick labels\n",
        "plt.rc('ytick', labelsize=14)       # fontsize of the tick labels\n",
        "plt.rc('legend', fontsize=12)       # legend fontsize\n",
        "plt.rc('figure', titlesize=30)      # fontsize of the figure title"
      ],
      "metadata": {
        "id": "iRMZw2sXarbE"
      },
      "execution_count": null,
      "outputs": []
    },
    {
      "cell_type": "markdown",
      "source": [
        "# 1. Modelling exam results\n",
        "\n",
        "In this exercise, we'll use some very small data sets and Bayesian modeling to answer some simple research questions. We'll study the performance of students on multiple choice exams (us teachers are obsessed with these type of examples). We'll be using `pyjags` to construct increasingly complex models for such data.\n",
        "\n",
        "## 1.1. To study or not to study\n",
        "Suppose we have an exam of $n = 40$ true-or-false questions, and $m = 15$ students that take this test. We observe the following scores on the exam:\n",
        "\n",
        "$$\n",
        "\\mathbf{k} = (19, 20, 16, 23, 22, 30, 38, 29, 34, 35, 35, 32, 37, 36, 33) \\enspace,\n",
        "$$ where $k_i$ is the number of correct answers out of $n$ for student $i$.\n",
        "\n",
        "If you look closely at these data, it seems as if it captures two different 'types' of students: one type performs reasonably well, whereas the other type reaches only guessing-level performance. \n",
        "\n",
        "It would be great if we could figure out to which type each student belongs, and what the success rates (i.e., the probabilities of a correct answer) are for the two groups.\n",
        "\n",
        "The first steps to modelling this situation consists of writing down the generative model, and drawing the corresponding graphical model. The generative model should include (at least) the following:\n",
        "\n",
        "- $k_i$: the number of questions answered correctly by student $i$.\n",
        "- $z_i$: the group label for student $i$ (group 0: guessing; group 1: studying).\n",
        "- $\\theta_i$: the probability student $i$ answers correctly.\n",
        "- $\\psi$: the probability of a correct answer for students in group 0.\n",
        "- $\\phi$: the probability of a correct answer for students in group 1.\n",
        "\n",
        "You may need to add several (hyper-)parameters yourself!\n",
        "\n",
        "1. What distribution makes sense for the likelihood $P(k_i \\mid n, \\ldots)$?"
      ],
      "metadata": {
        "id": "sv6Hoin6A8No"
      }
    },
    {
      "cell_type": "markdown",
      "source": [],
      "metadata": {
        "id": "mnAz16UQDznk"
      }
    },
    {
      "cell_type": "markdown",
      "source": [
        "2. Write down the generative model for this scenario. Think carefully about:\n",
        "  - Which variable do you want to learn?\n",
        "  - Which variable do you want to set to a fixed value (a hyperparameter)?\n",
        "  - Which variable is observed?\n",
        "  - Which variables are deterministic transformations of other variables?\n",
        "\n",
        "Here are two hints:\n",
        "\n",
        "First, The probability of a correct answer depends on the group a student belongs to ($z_i$). To express this in a generative model, we can use $z_i$ as an _indexing variable_ (this is the same idea as the label variable in a mixture model; that is essentially what we have here!). For example, one could specify:\n",
        "\n",
        "$$\n",
        "  \\theta_i = \\begin{cases}\\phi & \\text{if $z_i=1$}\\\\ \\psi &\\text{if $z_i=0$.}\\end{cases}\n",
        "$$\n",
        "\n",
        "Second, note that if a student is not in the guessing group, we expect them to perform __better__ than chance level."
      ],
      "metadata": {
        "id": "7OL7wokHENBc"
      }
    },
    {
      "cell_type": "markdown",
      "source": [],
      "metadata": {
        "id": "hTKFAMucPNhw"
      }
    },
    {
      "cell_type": "markdown",
      "source": [
        "3. Draw the corresponding graphical model. Pay attention to: \n",
        "  - Which variable is observed (data or hyperparameter), \n",
        "  - Which is latent (these we want to learn), and\n",
        "  - Which variables repeat."
      ],
      "metadata": {
        "id": "1fdkk787RMpu"
      }
    },
    {
      "cell_type": "markdown",
      "source": [],
      "metadata": {
        "id": "uDQ4LQc0M-ZO"
      }
    },
    {
      "cell_type": "markdown",
      "source": [
        "4. Write down the application of Bayes' theorem for your model. You do not need to solve the integral in the marginal likelihood; we'll avoid that by using JAGS. You may leave distributions in abstract notation, e.g. $p(k_i \\mid n, \\ldots)$; you do not have to write down their full expressions."
      ],
      "metadata": {
        "id": "PKi9zd_paB3l"
      }
    },
    {
      "cell_type": "markdown",
      "source": [],
      "metadata": {
        "id": "FwJflzayM-_m"
      }
    },
    {
      "cell_type": "markdown",
      "source": [
        "5. Do a so-called _prior predictive check_: Sample random values for the latent variables of your model (using the `numpy.random` module or with JAGS) and use them to generate a new vector $\\hat{\\mathbf{k}}$. Does it exhibit the properties you want it to have, when you compare it to the actual $\\mathbf{k}$?"
      ],
      "metadata": {
        "id": "v925DMvgRsS_"
      }
    },
    {
      "cell_type": "code",
      "source": [],
      "metadata": {
        "id": "H36h3c5wNBbN"
      },
      "execution_count": null,
      "outputs": []
    },
    {
      "cell_type": "markdown",
      "source": [],
      "metadata": {
        "id": "sbsO6YBnTCYp"
      }
    },
    {
      "cell_type": "markdown",
      "source": [
        "6. Implement the model in JAGS and train it on the available data."
      ],
      "metadata": {
        "id": "z4NtDdHDTYbY"
      }
    },
    {
      "cell_type": "code",
      "source": [
        "%%time \n",
        "n = 40\n",
        "k = [19, 20, 16, 23, 22, 30, 38, 29, 34, 35, 35, 32, 37, 36, 33]\n",
        "m = len(k)\n",
        "\n",
        "jags_model = '''\n",
        "model {\n",
        "  \n",
        "}\n",
        "'''\n",
        "\n",
        "\n",
        "data = ...\n",
        "\n",
        "# How long we sample\n",
        "num_iter = ...\n",
        "# How many distinct sampling runs\n",
        "num_chains = ...\n",
        "\n",
        "model = pj.Model(jags_model, data=data, chains=num_chains)\n",
        "samples = model.sample(num_iter, vars=[...])"
      ],
      "metadata": {
        "id": "aGlMq5uNTcsU"
      },
      "execution_count": null,
      "outputs": []
    },
    {
      "cell_type": "markdown",
      "source": [
        "7. Use the code below to make a ridge plot of $\\theta_i$. Adapt the code to also show the maximum likelihood estimates for $\\theta_i$ as a red vertical line, for each student. Are the distributions for $\\theta_i$ consistent with MLEs?"
      ],
      "metadata": {
        "id": "9ZBIculFZV-j"
      }
    },
    {
      "cell_type": "code",
      "source": [
        "import matplotlib.gridspec as grid_spec\n",
        "from scipy.stats import gaussian_kde\n",
        "\n",
        "def ridge_plot(samples, xlimits, suptitle, xlabel, ylabel):\n",
        "    \"\"\"Make a ridge-plot figure.\n",
        "\n",
        "    This function makes a ridge plot. It consists of a number of visually \n",
        "    overlapped smoothed histograms. \n",
        "    \n",
        "    The dashed lines indicate the observed treatment effects, while the \n",
        "    histograms show what our model estimates.\n",
        "\n",
        "    Args:\n",
        "        samples: A numpy array of size m x num_samples x num_chains\n",
        "        xlimits: the horizontal limits of the figures\n",
        "        suptitle: the title to put above the figure\n",
        "        xlabel: the name of the x-label\n",
        "        ylabel: the name of each row\n",
        "    \"\"\"\n",
        "    colors = plt.cm.get_cmap('inferno')\n",
        "    J = samples.shape[0]\n",
        "    gs = grid_spec.GridSpec(J, 1)\n",
        "    fig = plt.figure(figsize=(10, 10))\n",
        "\n",
        "    i = 0\n",
        "    xmin, xmax = xlimits\n",
        "    theta = np.linspace(xmin, xmax, num=200)    \n",
        "\n",
        "    ax_objs = []\n",
        "    for i in range(J):\n",
        "        # creating new axes object\n",
        "        ax_objs.append(fig.add_subplot(gs[i:i+1, 0:]))\n",
        "\n",
        "        # plotting the distribution\n",
        "        ax_objs[-1].hist(samples[i, :, :].flatten(), density=True, bins=100,\n",
        "                         histtype='stepfilled', edgecolor='k', linewidth=1.2, color=colors(i/J))\n",
        "\n",
        "        # setting uniform x and y lims\n",
        "        ax_objs[-1].set_xlim(xmin, xmax)\n",
        "        ax_objs[-1].set_ylim(bottom=0)\n",
        "\n",
        "        # make background transparent\n",
        "        rect = ax_objs[-1].patch\n",
        "        rect.set_alpha(0)\n",
        "\n",
        "        # remove borders, axis ticks, and labels\n",
        "        ax_objs[-1].set_yticklabels([])\n",
        "        \n",
        "        if i != J-1:\n",
        "            ax_objs[-1].set_xticklabels([])            \n",
        "        ax_objs[-1].text(xmin, 0.001, f'{ylabel} {i+1}',fontsize=14, ha=\"right\")\n",
        "\n",
        "        spines = [\"top\", \"right\", \"left\"]\n",
        "        for s in spines:\n",
        "            ax_objs[-1].spines[s].set_visible(False)\n",
        "        ax_objs[-1].set_yticks([])\n",
        "        i += 1\n",
        "\n",
        "    ax_objs[-1].set_xlabel(xlabel)\n",
        "    gs.update(hspace=-0.3)\n",
        "    plt.suptitle(suptitle, fontsize=24)    \n",
        "    return ax_objs\n",
        "\n",
        "#\n"
      ],
      "metadata": {
        "id": "Sz7Hg2nLT9Fl"
      },
      "execution_count": null,
      "outputs": []
    },
    {
      "cell_type": "markdown",
      "source": [
        "8. What are the posterior probabilities that a student has studied, for each of the $m$ students?"
      ],
      "metadata": {
        "id": "y3nFuyQ9fDct"
      }
    },
    {
      "cell_type": "code",
      "source": [],
      "metadata": {
        "id": "MkyWDYU0NSa7"
      },
      "execution_count": null,
      "outputs": []
    },
    {
      "cell_type": "markdown",
      "source": [
        "## 1.2. Individual variability\n",
        "\n",
        "The previous model makes a strong assumption: students that did study, all have the _same_ probability of answering a question correctly. That does not seem very realistic. \n",
        "\n",
        "1. Alter your generative model and your JAGS implementation to capture differences in performance among students that _did_ study. Make explicit what you changed compared to the previous model! In addition, make another ridge plot to show your updated results."
      ],
      "metadata": {
        "id": "bBbMakM7fwhq"
      }
    },
    {
      "cell_type": "markdown",
      "source": [],
      "metadata": {
        "id": "RwwyCEE3NUhP"
      }
    },
    {
      "cell_type": "code",
      "source": [
        "%%time \n",
        "n = 40\n",
        "k = [19, 20, 16, 23, 22, 30, 38, 29, 34, 35, 35, 32, 37, 36, 33]\n",
        "m = len(k)\n",
        "\n",
        "jags_model2 = '''\n",
        "model {\n",
        "\n",
        "}\n",
        "'''\n",
        "\n",
        "\n",
        "data = ...\n",
        "\n",
        "# How long we sample\n",
        "num_iter = ...\n",
        "# How many distinct sampling runs\n",
        "num_chains = ...\n",
        "\n",
        "model2 = pj.Model(jags_model2, data=data, chains=num_chains)\n",
        "samples2 = model2.sample(num_iter, vars=[...])"
      ],
      "metadata": {
        "id": "i0faCoYIgjZi"
      },
      "execution_count": null,
      "outputs": []
    },
    {
      "cell_type": "code",
      "source": [],
      "metadata": {
        "id": "GW0zOpYtgye6"
      },
      "execution_count": null,
      "outputs": []
    },
    {
      "cell_type": "markdown",
      "source": [
        "2. Now print again the probabilities that each individual student has studied; print both the probability according to your first model and according to your second model. \n",
        "\n"
      ],
      "metadata": {
        "id": "x7wtFilCjSLv"
      }
    },
    {
      "cell_type": "markdown",
      "source": [],
      "metadata": {
        "id": "jSK3oSUKNdAz"
      }
    },
    {
      "cell_type": "markdown",
      "source": [
        "You should see that some probabilities have changed.\n",
        "\n",
        "3. Why did adding the individual variability to the probability of a correct answer after studying, change the probability for students who performed poorly?"
      ],
      "metadata": {
        "id": "rAuPOsbANd7y"
      }
    },
    {
      "cell_type": "markdown",
      "source": [],
      "metadata": {
        "id": "F7bLsf5hj4Pe"
      }
    },
    {
      "cell_type": "markdown",
      "source": [
        "## 1.3. Easy and tough exam questions\n",
        "\n",
        "The previous model assumed that all questions were equal in difficulty. Of course, this is rarely the case in practice. Here, we construct a new model in which we represent both _student ability_ and _question difficulty_. \n",
        "\n",
        "To be able to model the difficulty of questions, we will not work with the aggregate results of the test (that is, the number of questions correct, previously $k_i$), but with the results for the individual questions. Now, $k_{ij}=1$ indicates that student $i$ answered question $j$ correctly. We will assume the probability of a question being answered correctly can be written as\n",
        "\n",
        "$$\n",
        "    \\theta_{ij} = p_i q_j \\enspace,\n",
        "$$ \n",
        "\n",
        "in which $p_i$ is the probability student $i$ answers a question correctly, and $q_j$ is the probability question $j$ gets answered correctly. As you can see, even a student who is very smart ($p_i\\approx 1$) might not answer correctly if a question is very difficult ($q_j\\approx 0$).\n",
        "\n",
        "Below are the results (observations) for $m=10$ students making $n=20$ questions."
      ],
      "metadata": {
        "id": "UBqcOdu0kchM"
      }
    },
    {
      "cell_type": "code",
      "source": [
        "k = np.array([[1, 1, 1, 1, 0, 0, 1, 1, 0, 1, 0, 0, 1, 0, 0, 1, 0, 1, 0, 0 ],\n",
        "              [0, 1, 1, 0, 0, 0, 0, 0, 0, 0, 0, 0, 0, 0, 0, 0, 0, 0, 0, 0],\n",
        "              [0, 0, 1, 0, 0, 0, 1, 1, 0, 0, 0, 0, 1, 0, 0, 0, 0, 0, 0, 0],              \n",
        "              [1, 0, 1, 1, 0, 1, 1, 1, 0, 1, 0, 0, 1, 0, 0, 0, 0, 1, 0, 0],\n",
        "              [0, 0, 0, 0, 0, 0, 1, 0, 1, 1, 0, 0, 0, 0, 0, 0, 0, 0, 0, 0],\n",
        "              [1, 1, 0, 1, 0, 0, 0, 1, 0, 1, 0, 1, 1, 0, 0, 1, 0, 1, 0, 0],              \n",
        "              [0, 0, 0, 0, 0, 0, 0, 0, 0, 0, 0, 0, 0, 0, 0, 0, 0, 0, 0, 0],\n",
        "              [0, 1, 1, 0, 0, 0, 0, 1, 0, 1, 0, 0, 1, 0, 0, 0, 0, 1, 0, 1],\n",
        "              [0, 0, 0, 0, 0, 0, 0, 0, 0, 0, 0, 1, 0, 0, 0, 0, 0, 0, 0, 0],\n",
        "              [1, 0, 0, 0, 0, 0, 1, 0, 0, 1, 0, 0, 1, 0, 0, 0, 0, 0, 0, 0]])\n",
        "\n",
        "m, n = k.shape"
      ],
      "metadata": {
        "id": "G-DFgQBTlziH"
      },
      "execution_count": null,
      "outputs": []
    },
    {
      "cell_type": "markdown",
      "source": [
        "1. Construct a generative model by which we can learn the individual student performances $p_i$ as well as the question difficulties $q_j$."
      ],
      "metadata": {
        "id": "ZvumVPZ1mAxe"
      }
    },
    {
      "cell_type": "markdown",
      "source": [],
      "metadata": {
        "id": "2DKwmCURNjea"
      }
    },
    {
      "cell_type": "markdown",
      "source": [
        "2. Implement your model in JAGS. Visualize the posterior estimates of each $p_i$ and $q_j$ in a way you think is appropriate."
      ],
      "metadata": {
        "id": "tFyfUM2XmsvJ"
      }
    },
    {
      "cell_type": "markdown",
      "source": [],
      "metadata": {
        "id": "utVRlnM-qUKi"
      }
    },
    {
      "cell_type": "code",
      "source": [
        "%%time \n",
        "\n",
        "jags_model3 = '''\n",
        "model {\n",
        "   \n",
        "}\n",
        "'''\n",
        "\n",
        "data = ...\n",
        "\n",
        "# How long we sample\n",
        "num_iter = ...\n",
        "# How many distinct sampling runs\n",
        "num_chains = ...\n",
        "\n",
        "model3 = pj.Model(jags_model3, data=data, chains=num_chains)\n",
        "samples3 = model3.sample(num_iter, vars=[...])"
      ],
      "metadata": {
        "id": "4-F7j1W6na_G"
      },
      "execution_count": null,
      "outputs": []
    },
    {
      "cell_type": "code",
      "source": [],
      "metadata": {
        "id": "Jde0vgbEn35e"
      },
      "execution_count": null,
      "outputs": []
    },
    {
      "cell_type": "markdown",
      "source": [
        "3. According to your model, which students performed best, and which questions where the most difficult?\n",
        "\n",
        "Tip: for this 'sorting', it might be easiest to compute for each $p_i$ or $q_j$ the _mode_ of the distribution and sort according to this."
      ],
      "metadata": {
        "id": "cMQZwPoJqV-n"
      }
    },
    {
      "cell_type": "markdown",
      "source": [],
      "metadata": {
        "id": "9zq8jTfTNqLC"
      }
    },
    {
      "cell_type": "code",
      "source": [],
      "metadata": {
        "id": "Su_Z7_NvNrup"
      },
      "execution_count": null,
      "outputs": []
    },
    {
      "cell_type": "markdown",
      "source": [
        "---\n",
        "# 2. Let's milk this further with Bayesian regression\n",
        "\n",
        "In an attempt to produce productivity, farmer Fred decides to start cuddling his cows for a testing period of one month. For each cow, Fred writes down the number of cuddles she received ($x_i$) as well as the total amount of milk they produced that month ($y_i$; in liters).\n",
        "\n",
        "The following code snippet loads and visualizes Fred's data set."
      ],
      "metadata": {
        "id": "tciuDHSZEJEu"
      }
    },
    {
      "cell_type": "code",
      "source": [
        "import pandas as pd\n",
        "\n",
        "df = pd.read_csv('cow_cuddles_fred.csv', delimiter=';', decimal=',', header=None)\n",
        "x = df[0].to_numpy()\n",
        "y = df[1].to_numpy()\n",
        "n = len(y)\n",
        "\n",
        "\n",
        "plt.figure(figsize=(16, 8))\n",
        "plt.plot(x, y, 'rx')\n",
        "plt.xlabel('Amount of cuddles')\n",
        "plt.ylabel('Milk (liters)')\n",
        "plt.title('Relationship between cuddles and milk production');"
      ],
      "metadata": {
        "id": "o7uOeRRCbRKQ",
        "colab": {
          "base_uri": "https://localhost:8080/",
          "height": 529
        },
        "outputId": "9eef5e95-672b-4960-ff43-68c108071ec6"
      },
      "execution_count": null,
      "outputs": [
        {
          "output_type": "display_data",
          "data": {
            "text/plain": [
              "<Figure size 1152x576 with 1 Axes>"
            ],
            "image/png": "[encoded data removed]"
          },
          "metadata": {
            "needs_background": "light"
          }
        }
      ]
    },
    {
      "cell_type": "markdown",
      "source": [
        "1. Implement a Bayesian linear regression model in JAGS."
      ],
      "metadata": {
        "id": "59NLepyJBJe5"
      }
    },
    {
      "cell_type": "markdown",
      "source": [],
      "metadata": {
        "id": "YM3p_mAHOHC5"
      }
    },
    {
      "cell_type": "code",
      "source": [],
      "metadata": {
        "id": "9ao5x0lDOHJB"
      },
      "execution_count": null,
      "outputs": []
    },
    {
      "cell_type": "code",
      "source": [
        "%%time\n",
        "\n",
        "code = '''\n",
        "model{      \n",
        " \n",
        "}\n",
        "'''\n",
        "\n",
        "data = ...\n",
        "num_samples = ...\n",
        "num_chains = ...\n",
        "\n",
        "m = pj.Model(code=code, data=data, chains=num_chains)\n",
        "samples = m.sample(num_samples, vars=[...])"
      ],
      "metadata": {
        "id": "cUYW6giSbK7l"
      },
      "execution_count": null,
      "outputs": []
    },
    {
      "cell_type": "markdown",
      "source": [
        "2. Use your MCMC samples to visualize the posterior distribution of $\\mu=w_0+w_1 x$ for a range of $x$, e.g., `x_plot = np.linspace(0, 30, num=100)`, by showing the posterior expectation and the 95% HDI (see Lecture 6). \n",
        "\n",
        "Tip: To construct the posterior of $\\mu$, you will need the samples of the regression weights ($w_0$ and $w_1$). You could, for every MCMC sample $s$, take $w_0^{(s)}$ and $w_1^{(s)}$ and construct the vector $\\mathbf{\\mu}^{(s)}$ for each (this vector is of length 100, as `x` was constructed to have that length). However, doing this in a `for` loop can be very slow! It is much faster (i.e., more than 100 times) to add/multiply entire `numpy` matrices/arrays at once."
      ],
      "metadata": {
        "id": "OUu-rh88BfCR"
      }
    },
    {
      "cell_type": "code",
      "source": [
        "plt.figure(figsize=(16, 8))\n",
        "ax = plt.gca()\n",
        "ax.plot(x, y, 'rx', label='Observations')\n",
        "\n",
        "m = 100\n",
        "x_plot = np.linspace(0, 30, num=m)\n",
        "w0_samples = ...\n",
        "w1_samples = ...\n",
        "\n",
        "x_repeat = np.repeat(x_plot[:, np.newaxis], num_samples*num_chains, axis=1).T\n",
        "w0_repeat = ... # its shape should be (num_samples*num_chains, m)\n",
        "w1_repeat = ... # its shape should be (num_samples*num_chains, m)\n",
        "\n",
        "mu_samples = w0_repeat + w1_repeat*x_repeat\n",
        "\n",
        "mu_exp = # get the posterior expectation of mu\n",
        "mu_lower = # get the lower limit of the 95% HDI\n",
        "mu_upper = # get the upper limit of the 95% HDI\n",
        "\n",
        "ax.plot(x_plot, mu_exp, color='tab:green', \n",
        "        label=r'Expectation of $\\mu_i = w_0 + w_1x_i$')\n",
        "ax.fill_between(x_plot, \n",
        "                mu_lower,\n",
        "                mu_upper, color='tab:green', alpha=0.3, label='95% HDI')\n",
        "ax.legend()\n",
        "plt.xlabel('Amount of cuddles')\n",
        "plt.ylabel('Milk (liters)')\n",
        "plt.title('Relationship between cuddles and milk production')\n",
        "ax.set_xlim([x_plot[0], x_plot[-1]]);"
      ],
      "metadata": {
        "id": "lcUUAeyVOOTI"
      },
      "execution_count": null,
      "outputs": []
    },
    {
      "cell_type": "markdown",
      "source": [
        "---\n",
        "__IMPORTANT__\n",
        "\n",
        "Something we have not discussed at length is the relationship between our priors and the _scale_ of the data. If you have used a fairly standard prior for your regression weights, such as $w_1 \\sim \\text{Gaussian}(0, 1)$, you are saying in your prior that you expect only _small_ changes to the amount of milk as a function of an increase in number of cuddles. However, the amount of milk is measured in _hundreds_ of liters. If there indeed is an effect, that means that $w_1$ could have a true value such as 20 (for every additional cuddle, 20 more liters produced) -- which is extremely unlikely under the $\\text{Gaussian}(0, 1)$ prior. \n",
        "\n",
        "The result of such a 'wrong' prior specification can be that the model learns there is almost no effect, and that all observations are just explained by a (nearly) horizontal regression line and a large measurement noise $\\sigma$ (the standard deviation of the Gaussian likelihood).\n",
        "\n",
        "If this happens in your analysis, you have used a prior that is too restrictive (or we simply don't have enough data). It is easily fixed; just make your priors _wider_. For example, use $\\text{Gaussian}(0, \\sigma=10)$ instead (remember that in JAGS that would be `dnorm(0, 1/pow(10,2))`.\n",
        "\n",
        "Make sure your posterior expectation of the regression looks reasonable before proceeding!\n",
        "\n",
        "---"
      ],
      "metadata": {
        "id": "NsCHxiKDERdK"
      }
    },
    {
      "cell_type": "markdown",
      "source": [
        "3. Make a histogram of the posterior of the standard deviation $\\sigma$. Does it show reasonable values compared to your previous figure (for example, at $x=20$, our observations range from roughly 80 to 750; our standard deviation therefore should not be 4, or 2000)?"
      ],
      "metadata": {
        "id": "QBP8nnWnOrkM"
      }
    },
    {
      "cell_type": "markdown",
      "source": [],
      "metadata": {
        "id": "Xt3BGqSvOQSP"
      }
    },
    {
      "cell_type": "code",
      "source": [
        "plt.figure(figsize=(16,8))\n",
        "ax = plt.gca()\n",
        "ax.hist(..., density=True, bins=100, \n",
        "        label=r'Posterior $p(\\sigma \\mid x_1, \\ldots, x_n)$')\n",
        "ax.legend()\n",
        "ax.set_title('Posterior of the observation noise');"
      ],
      "metadata": {
        "id": "vC5uLvckOQZ4"
      },
      "execution_count": null,
      "outputs": []
    },
    {
      "cell_type": "markdown",
      "source": [
        "The previous questions asked you to visualize the posterior distributions of the vector $\\mu$ and the scalar $\\sigma$. But to know what happens when Fred cuddles a new cow for 40 times ($x^*=40$), we need the _posterior predictive_ distribution instead.\n",
        "\n",
        "4. Plot a histogram of the (approximated) posterior predictive distribution: $p(y^* \\mid x^*, x_1, \\ldots, x_n)=\\int p(y^* \\mid w_0, w_1, \\sigma, x^*)p(w_0, w_1, \\sigma \\mid x_1, \\ldots, x_n) \\text{d}w_0 \\text{d}w_1 \\text{d}\\sigma$. In the same figure, plot another histogram (with a different color) of $\\mu^*$, and a vertical line (using `axvline`) with the posterior expectation of $\\mu^*$."
      ],
      "metadata": {
        "id": "VEWlsaF2Iplc"
      }
    },
    {
      "cell_type": "code",
      "source": [
        "x_pred = 40\n",
        "\n",
        "y_pred = np.random.normal(loc=..., scale=...)\n",
        "\n",
        "plt.figure(figsize=(16,8))\n",
        "ax = plt.gca()\n",
        "ax.hist(y_pred, density=True, bins=100, \n",
        "        label='Posterior predictive $p(y^* \\mid x^*, x_1, \\ldots, x_n)$')\n",
        "ax.hist(..., density=True, bins=100, alpha=0.3, color='tab:green',\n",
        "        label=r'Posterior $p(\\mu^* \\mid x^*, x_1, \\ldots, x_n)$')\n",
        "ax.axvline(x=..., color='tab:green', \n",
        "           label=r'Posterior expectation $\\mathbb{E}\\left[p(\\mu^* \\mid x^*, x_1, \\ldots, x_n)\\right]$')\n",
        "ax.legend(fontsize=16)\n",
        "ax.set_title('Posterior predictive');"
      ],
      "metadata": {
        "id": "26IYcZJrOSHa"
      },
      "execution_count": null,
      "outputs": []
    },
    {
      "cell_type": "markdown",
      "source": [
        "Neighbouring farmer Francesco learns of Fred's results and decides to start cuddling her cows as well. She follows a similar procedure, and below you can see her observations."
      ],
      "metadata": {
        "id": "5wpnrPIGoBKg"
      }
    },
    {
      "cell_type": "code",
      "source": [
        "import pandas as pd\n",
        "\n",
        "df = pd.read_csv('cow_cuddles_francesca.csv', delimiter=';', decimal='.', header=None)\n",
        "x = df[0].to_numpy()\n",
        "y = df[1].to_numpy()\n",
        "n = len(y)\n",
        "\n",
        "plt.figure(figsize=(16, 8))\n",
        "plt.plot(x, y, 'rx')\n",
        "plt.xlabel('Amount of cuddles')\n",
        "plt.ylabel('Milk (liters)')\n",
        "plt.title('Relationship between cuddles and milk production');"
      ],
      "metadata": {
        "colab": {
          "base_uri": "https://localhost:8080/",
          "height": 529
        },
        "id": "5WEMbQs4qwWO",
        "outputId": "6d5bd7a5-ebed-46f1-a1a7-bf419770a5d2"
      },
      "execution_count": null,
      "outputs": [
        {
          "output_type": "display_data",
          "data": {
            "text/plain": [
              "<Figure size 1152x576 with 1 Axes>"
            ],
            "image/png": "[encoded data removed]"
          },
          "metadata": {
            "needs_background": "light"
          }
        }
      ]
    },
    {
      "cell_type": "markdown",
      "source": [
        "Remarkably, the effect is a lot less clear than it was for Fred. In fact, it seems like there are two trends occurring in parallel: one group of cows benefits from cuddles, just like with Fred, but another group of cows seems to produce _less_ milk after receiving cuddles. Perhaps these are a different breed that are not so appreciative of hugging people?\n",
        "\n",
        "5. Anyway, demonstrate that modelling these data with your Bayesian linear regression model leads to poor predictions, by showing the actual observations at $x=35$ and the posterior predictive distribution."
      ],
      "metadata": {
        "id": "AX4nsHJnr07g"
      }
    },
    {
      "cell_type": "markdown",
      "source": [],
      "metadata": {
        "id": "d490jIW2OUwB"
      }
    },
    {
      "cell_type": "code",
      "source": [
        "%%time\n",
        "\n",
        "code = '''\n",
        "model{      \n",
        "       \n",
        "}\n",
        "'''\n",
        "\n",
        "data = ...\n",
        "num_samples = ...\n",
        "num_chains = ...\n",
        "\n",
        "m = pj.Model(code=code, data=data, chains=num_chains)\n",
        "samples = m.sample(num_samples, vars=[...])"
      ],
      "metadata": {
        "id": "1wtDEcSfr1dy"
      },
      "execution_count": null,
      "outputs": []
    },
    {
      "cell_type": "markdown",
      "source": [
        "To better model these observations, we need a _mixture model_. However, instead of a Gaussian mixture model like in the lecture, we now need a Bayesian linear regression mixture model.\n",
        "\n",
        "6. Write down the generative model for the Bayesian linear regression mixture model. You may assume there are $K=2$ components."
      ],
      "metadata": {
        "id": "k1y0JxCYsaAF"
      }
    },
    {
      "cell_type": "markdown",
      "source": [],
      "metadata": {
        "id": "rL9P_IIiOgK4"
      }
    },
    {
      "cell_type": "markdown",
      "source": [
        "7. Implement your model in JAGS. Make sure to consider the tips in Lecture 6 on keeping the components identifiable!\n",
        "\n",
        "__Note__: As mentioned in the lecture, this model can take quite a bit longer to sample. My solution took about a minute on a Google colab environment."
      ],
      "metadata": {
        "id": "TBjBRywBttSp"
      }
    },
    {
      "cell_type": "code",
      "source": [],
      "metadata": {
        "id": "1fQuaEstOhjo"
      },
      "execution_count": null,
      "outputs": []
    },
    {
      "cell_type": "code",
      "source": [
        "%%time\n",
        "\n",
        "code = '''\n",
        "model{      \n",
        "    \n",
        "}\n",
        "'''\n",
        "\n",
        "data = ...\n",
        "num_samples = ...\n",
        "num_chains = ...\n",
        "\n",
        "m = pj.Model(code=code, data=data, chains=num_chains)\n",
        "samples = m.sample(num_samples, vars=[...])"
      ],
      "metadata": {
        "id": "xslENWDZtsjg"
      },
      "execution_count": null,
      "outputs": []
    },
    {
      "cell_type": "markdown",
      "source": [
        "8. Visualize once more the posterior distribution of $\\mu$ (expectation + 95% HDI), for `x_plot = np.linspace(0, 50, num=100)`. This time however, the plot should show two distinct $\\mu$'s (and their 95% HDI); one for each mixture component."
      ],
      "metadata": {
        "id": "cgkEDQO7uwLP"
      }
    },
    {
      "cell_type": "code",
      "source": [
        "plt.figure(figsize=(16, 8))\n",
        "ax = plt.gca()\n",
        "ax.plot(x, y, 'rx', label='Observations')\n",
        "\n",
        "m = 100\n",
        "x_range = np.linspace(0, 50, num=m)\n",
        "\n",
        "...\n",
        "\n",
        "colors = ['tab:green', 'tab:orange']\n",
        "\n",
        "for k in range(2):\n",
        "    ...\n",
        "    ax.plot(x_range, ..., color=colors[k], \n",
        "            label=f'Expectation of component {k+1}')\n",
        "    ax.fill_between(x_range, \n",
        "                    mu_lower,\n",
        "                    mu_upper, color=colors[k], alpha=0.3, \n",
        "                    label=f'95% HDI of component {k+1}')\n",
        "\n",
        "ax.legend()\n",
        "ax.set_xlabel('Amount of cuddles')\n",
        "ax.set_ylabel('Milk (liters)')\n",
        "ax.set_title('Relationship between cuddles and milk production')\n",
        "ax.set_xlim([x_range[0], x_range[-1]]);"
      ],
      "metadata": {
        "id": "2V-K3NM8Omk5"
      },
      "execution_count": null,
      "outputs": []
    },
    {
      "cell_type": "markdown",
      "source": [
        "9. Show the posterior predictive distribution for $x^*=35$. Explain the differences in this figure compared to your result for subquestion 4.\n",
        "\n",
        "Tip: Simply showing the two posterior predictives for the two regressions is not sufficient. That would show two separate posterior predictive distributions, instead of one single distribution (i.e., it would integrate to 2 instead of 1 -- see the lecture slides). Instead, for each predictive sample $y^{(s)}$ you first need to sample $z^{(s)} \\sim \\text{Categorical}({\\pi})$, where $\\pi$ is the posterior probability that a point belongs to either component 1 or component 2. Then, once you know the label of the sampled point, you can take the appropriate $w_0$, $w_1$ and $\\sigma$ to predict. Repeat this for all samples, and you collect the histogram of $p(y^* \\mid x^*, x_1, \\ldots, x_n)$."
      ],
      "metadata": {
        "id": "NOv1-dNvxgS9"
      }
    },
    {
      "cell_type": "code",
      "source": [
        "%%time \n",
        "x_pred = 35\n",
        "\n",
        "mu_samples = ...\n",
        "sigma_samples = ...\n",
        "pi_samples = ...\n",
        "\n",
        "\n",
        "y_pred = np.empty((num_chains*num_samples, ))\n",
        "\n",
        "for j in range(num_samples*num_chains):    \n",
        "    z_j = np.random.binomial(n=1, p=pi_samples[1, j], size=1)\n",
        "    \n",
        "    y_pred[j] = np.random.normal(loc=..., scale=...)\n",
        "\n",
        "\n",
        "plt.figure(figsize=(16,8))\n",
        "ax = plt.gca()\n",
        "ax.hist(y_pred, density=True, bins=100, \n",
        "        label='Posterior predictive $p(y^* \\mid x^*=35, x_1, \\ldots, x_n)$')\n",
        "ax.hist(y[x==x_pred], density=True, bins=100, alpha=0.3, color='tab:green',\n",
        "        label=r'Observations at $x={:d}$'.format(x_pred))\n",
        "ax.legend(fontsize=16)\n",
        "ax.set_title('Posterior predictive');"
      ],
      "metadata": {
        "id": "W2KekyMDOonr"
      },
      "execution_count": null,
      "outputs": []
    }
  ]
}